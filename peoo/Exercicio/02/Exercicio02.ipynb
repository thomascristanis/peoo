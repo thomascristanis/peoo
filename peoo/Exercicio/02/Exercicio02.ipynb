{
  "nbformat": 4,
  "nbformat_minor": 0,
  "metadata": {
    "colab": {
      "name": "Exercicio02.ipynb",
      "provenance": [],
      "collapsed_sections": [],
      "authorship_tag": "ABX9TyM/4jlvE/gGNS/E208OUisC",
      "include_colab_link": true
    },
    "kernelspec": {
      "name": "python3",
      "display_name": "Python 3"
    }
  },
  "cells": [
    {
      "cell_type": "markdown",
      "metadata": {
        "id": "view-in-github",
        "colab_type": "text"
      },
      "source": [
        "<a href=\"https://colab.research.google.com/github/thomascristanis/peoo/blob/master/peoo/Exercicio/02/Exercicio02.ipynb\" target=\"_parent\"><img src=\"https://colab.research.google.com/assets/colab-badge.svg\" alt=\"Open In Colab\"/></a>"
      ]
    },
    {
      "cell_type": "markdown",
      "metadata": {
        "id": "zPCrnmpDtxw7",
        "colab_type": "text"
      },
      "source": [
        "**Questão 01** - Faça um algoritmo que leia dois números e escreva como resultado o menor deles."
      ]
    },
    {
      "cell_type": "code",
      "metadata": {
        "id": "hwsavupDuABv",
        "colab_type": "code",
        "colab": {
          "base_uri": "https://localhost:8080/",
          "height": 68
        },
        "outputId": "72bb706b-4e73-4a2e-eede-fef40abab62d"
      },
      "source": [
        "num01 = int(input(\"Digite o primeiro número \"))\n",
        "num02 = int(input(\"Digite o segundo número \"))\n",
        "\n",
        "if num01 > num02:\n",
        "  print(f\"O maior número é: \", {num01})\n",
        "else:\n",
        "  print(f\"O maior número é: \", {num02})\n"
      ],
      "execution_count": 5,
      "outputs": [
        {
          "output_type": "stream",
          "text": [
            "Digite o primeiro número 10\n",
            "Digite o segundo número 5\n",
            "O maior número é:  {10}\n"
          ],
          "name": "stdout"
        }
      ]
    },
    {
      "cell_type": "markdown",
      "metadata": {
        "id": "UcmZvM17vTom",
        "colab_type": "text"
      },
      "source": [
        "**Questão 02** - Faça um algoritmo que receba o salário de um funcionário, calcule e mostre o novo salário,\n",
        "sabendo-se que este sofreu aumento de 15%."
      ]
    },
    {
      "cell_type": "code",
      "metadata": {
        "id": "xLLYSs3rvYv6",
        "colab_type": "code",
        "colab": {
          "base_uri": "https://localhost:8080/",
          "height": 51
        },
        "outputId": "19d20264-5eb4-422f-bda0-ab224a0ce442"
      },
      "source": [
        "salario = float(input(\"Digite o primeiro número \"))\n",
        "\n",
        "novoSalario = salario * 1.15\n",
        "print(f\"O novo salário do funcionário é\", {novoSalario})"
      ],
      "execution_count": 6,
      "outputs": [
        {
          "output_type": "stream",
          "text": [
            "Digite o primeiro número 1000\n",
            "O novo salário do funcionário é {1150.0}\n"
          ],
          "name": "stdout"
        }
      ]
    },
    {
      "cell_type": "markdown",
      "metadata": {
        "id": "TvX1bEGjvxJU",
        "colab_type": "text"
      },
      "source": [
        "**Questão 03** - Sabe-se que o valor de cada 1.000 litros de água corresponde a 2% do salário mínimo. Faça um\n",
        "algoritmo que receba o valor do salário mínimo e a quantidade de água consumida em uma\n",
        "residência por mês. Calcule e mostre:\n",
        "\n",
        "**a-** O valor da conta de água.\n",
        "\n",
        "**b-** O valor a ser pago com desconto de 15%"
      ]
    },
    {
      "cell_type": "code",
      "metadata": {
        "id": "zwW2QiNZv07T",
        "colab_type": "code",
        "colab": {
          "base_uri": "https://localhost:8080/",
          "height": 102
        },
        "outputId": "673ae30b-a47f-46ae-ad39-d0bf8d6e721a"
      },
      "source": [
        "salarioMinimo = float(input(\"Digite o valor do salário mínimo \"))\n",
        "qtdAguaConsumida = float(input(\"Digite a quantidade de agua consumida por mês \"))\n",
        "\n",
        "valorLitro = (salarioMinimo * 0.02) / 1000\n",
        "valorConta = qtdAguaConsumida * valorLitro\n",
        "valorContaDesconto = valorConta * 0.85\n",
        "\n",
        "print(f\"O valor do litro é\", {valorLitro})\n",
        "print(f\"O valor da conta de água é\", {valorConta})\n",
        "print(f\"O valor da conta de água com desconto é\", {valorContaDesconto})\n",
        "\n"
      ],
      "execution_count": 11,
      "outputs": [
        {
          "output_type": "stream",
          "text": [
            "Digite o valor do salário mínimo 1000\n",
            "Digite a quantidade de agua consumida por mês 100\n",
            "O valor do litro é {0.02}\n",
            "O valor da conta de água é {2.0}\n",
            "O valor da conta de água com desconto é {1.7}\n"
          ],
          "name": "stdout"
        }
      ]
    },
    {
      "cell_type": "markdown",
      "metadata": {
        "id": "glCXq0j8v949",
        "colab_type": "text"
      },
      "source": [
        "**Questão 04** - Faça um algoritmo que receba dois valores nas variáveis A e B respetivamente, troque o valor\n",
        "contido na variável A pelo valor em B, e o valor em B pelo valor em A, isto é, ao final do algoritmo,\n",
        "A e B terão valores trocados."
      ]
    },
    {
      "cell_type": "code",
      "metadata": {
        "id": "lodhfduewB6q",
        "colab_type": "code",
        "colab": {
          "base_uri": "https://localhost:8080/",
          "height": 85
        },
        "outputId": "6661d64d-91a2-4c5e-b1a6-95b8a28557b7"
      },
      "source": [
        "A = int(input(\"Digite o primeiro número \"))\n",
        "B = int(input(\"Digite o segundo número \"))\n",
        "auxiliar = 0\n",
        "\n",
        "auxiliar = A\n",
        "A = B\n",
        "B = auxiliar\n",
        "\n",
        "print(f\"O valor de A é \", {A})\n",
        "print(f\"O valor de A é \", {B})"
      ],
      "execution_count": 7,
      "outputs": [
        {
          "output_type": "stream",
          "text": [
            "Digite o primeiro número 2\n",
            "Digite o segundo número 3\n",
            "O valor de A é  {3}\n",
            "O valor de A é  {2}\n"
          ],
          "name": "stdout"
        }
      ]
    }
  ]
}